{
 "cells": [
  {
   "cell_type": "code",
   "execution_count": 1,
   "metadata": {},
   "outputs": [],
   "source": [
    "%matplotlib inline\n",
    "import numpy as np\n",
    "import matplotlib.pyplot as plt"
   ]
  },
  {
   "cell_type": "markdown",
   "metadata": {},
   "source": [
    "## 第一題"
   ]
  },
  {
   "cell_type": "code",
   "execution_count": 5,
   "metadata": {},
   "outputs": [],
   "source": [
    "A=np.random.randint(100,size=(10,5))\n",
    "B=np.random.randint(100,size=(10,5))\n",
    "C=np.random.randint(100,size=(10,5))\n",
    "\n",
    "W=np.array([0.25,0.25,0.25,0.15,0.10])"
   ]
  },
  {
   "cell_type": "code",
   "execution_count": 6,
   "metadata": {},
   "outputs": [
    {
     "name": "stdout",
     "output_type": "stream",
     "text": [
      "A班:\n",
      " [[ 0 59 15  7 56]\n",
      " [37 23 81 27 54]\n",
      " [28 62 12 70 70]\n",
      " [29 20 64 27 42]\n",
      " [56 69 43 65 34]\n",
      " [38  9 80 79 55]\n",
      " [80 55 91 58 19]\n",
      " [34 40 88 29 53]\n",
      " [39 55 89 34 48]\n",
      " [91 70 84 39 47]] \n",
      "\n",
      "B班:\n",
      " [[98 45 60 14 52]\n",
      " [49 40  3 36 15]\n",
      " [51 82 82  7 79]\n",
      " [11 75  3 16 17]\n",
      " [ 5 17 62  7 64]\n",
      " [35 99 29 30 28]\n",
      " [22 77 21 82 13]\n",
      " [79 73 15 25  0]\n",
      " [23  8 38 48 89]\n",
      " [57  6 66 52 52]] \n",
      "\n",
      "C班:\n",
      " [[42 50  1 76 69]\n",
      " [20 29 26 37 54]\n",
      " [85 96 77 53 16]\n",
      " [52 76 10 54 88]\n",
      " [30 97 96 31 89]\n",
      " [39 17 88 96 23]\n",
      " [16 21  0 27 26]\n",
      " [36 65 39 79 61]\n",
      " [78 30  2 18 73]\n",
      " [ 7 58  8  8 67]] \n",
      "\n"
     ]
    }
   ],
   "source": [
    "print(\"A班:\\n\",A,\"\\n\")\n",
    "print(\"B班:\\n\",B,\"\\n\")\n",
    "print(\"C班:\\n\",C,\"\\n\")"
   ]
  },
  {
   "cell_type": "code",
   "execution_count": 7,
   "metadata": {},
   "outputs": [],
   "source": [
    "SumA=np.dot(A,W)\n",
    "SumB=np.dot(B,W)\n",
    "SumC=np.dot(C,W)"
   ]
  },
  {
   "cell_type": "code",
   "execution_count": 8,
   "metadata": {},
   "outputs": [
    {
     "name": "stdout",
     "output_type": "stream",
     "text": [
      "A班加權平均:\n",
      " [25.15 44.7  43.   36.5  55.15 49.1  67.1  50.15 55.65 71.8 ] \n",
      "\n",
      "B班加權平均:\n",
      " [58.05 29.9  62.7  26.35 28.45 48.05 43.6  45.5  33.35 45.25] \n",
      "\n",
      "C班加權平均:\n",
      " [41.55 29.7  74.05 51.4  69.3  52.7  15.9  52.95 37.5  26.15] \n",
      "\n"
     ]
    }
   ],
   "source": [
    "print(\"A班加權平均:\\n\",SumA,\"\\n\")\n",
    "print(\"B班加權平均:\\n\",SumB,\"\\n\")\n",
    "print(\"C班加權平均:\\n\",SumC,\"\\n\")"
   ]
  },
  {
   "cell_type": "markdown",
   "metadata": {},
   "source": [
    "## 第二題"
   ]
  },
  {
   "cell_type": "code",
   "execution_count": 19,
   "metadata": {},
   "outputs": [
    {
     "name": "stdout",
     "output_type": "stream",
     "text": [
      "[ 35  38   7   7  11  25   2  31  52  23  73  19   5  46   2   7  27  68\n",
      "  39  66   5  28  95  16  72  38  47  88  46  71  74   9 100  33  89  59\n",
      "  13  80  43  51]\n"
     ]
    }
   ],
   "source": [
    "egg=np.random.randint(101,size=40)\n",
    "print(egg)"
   ]
  },
  {
   "cell_type": "code",
   "execution_count": 20,
   "metadata": {},
   "outputs": [
    {
     "name": "stdout",
     "output_type": "stream",
     "text": [
      "最高分: 100\n",
      "最低分: 2\n"
     ]
    }
   ],
   "source": [
    "print(\"最高分:\",max(egg))\n",
    "print(\"最低分:\",min(egg))\n",
    "count=0"
   ]
  },
  {
   "cell_type": "code",
   "execution_count": 21,
   "metadata": {},
   "outputs": [
    {
     "name": "stdout",
     "output_type": "stream",
     "text": [
      "及格人數(>=60): 17\n",
      "平均數: 41.0\n",
      "標準差: 28.495613697550013\n"
     ]
    }
   ],
   "source": [
    "for i in range(len(egg)):\n",
    "    if(sun[i]>=60):\n",
    "        count+=1\n",
    "print(\"及格人數(>=60):\",count)\n",
    "print(\"平均數:\",np.mean(egg))\n",
    "print(\"標準差:\",np.std(egg))"
   ]
  },
  {
   "cell_type": "code",
   "execution_count": 22,
   "metadata": {},
   "outputs": [
    {
     "data": {
      "text/plain": [
       "[<matplotlib.lines.Line2D at 0x25828f3a0f0>]"
      ]
     },
     "execution_count": 22,
     "metadata": {},
     "output_type": "execute_result"
    },
    {
     "data": {
      "image/png": "[encoded data removed]",
      "text/plain": [
       "<Figure size 432x288 with 1 Axes>"
      ]
     },
     "metadata": {
      "needs_background": "light"
     },
     "output_type": "display_data"
    }
   ],
   "source": [
    "plt.plot(egg)"
   ]
  },
  {
   "cell_type": "code",
   "execution_count": 23,
   "metadata": {},
   "outputs": [
    {
     "data": {
      "text/plain": [
       "(array([9., 3., 5., 5., 4., 3., 2., 5., 2., 2.]),\n",
       " array([  2. ,  11.8,  21.6,  31.4,  41.2,  51. ,  60.8,  70.6,  80.4,\n",
       "         90.2, 100. ]),\n",
       " <a list of 10 Patch objects>)"
      ]
     },
     "execution_count": 23,
     "metadata": {},
     "output_type": "execute_result"
    },
    {
     "data": {
      "image/png": "[encoded data removed]",
      "text/plain": [
       "<Figure size 432x288 with 1 Axes>"
      ]
     },
     "metadata": {
      "needs_background": "light"
     },
     "output_type": "display_data"
    }
   ],
   "source": [
    "x=np.arange(0,110,10)\n",
    "plt.xticks(x)\n",
    "plt.hist(egg)"
   ]
  },
  {
   "cell_type": "code",
   "execution_count": null,
   "metadata": {},
   "outputs": [],
   "source": []
  },
  {
   "cell_type": "code",
   "execution_count": null,
   "metadata": {},
   "outputs": [],
   "source": []
  }
 ],
 "metadata": {
  "kernelspec": {
   "display_name": "Python 3",
   "language": "python",
   "name": "python3"
  },
  "language_info": {
   "codemirror_mode": {
    "name": "ipython",
    "version": 3
   },
   "file_extension": ".py",
   "mimetype": "text/x-python",
   "name": "python",
   "nbconvert_exporter": "python",
   "pygments_lexer": "ipython3",
   "version": "3.7.3"
  }
 },
 "nbformat": 4,
 "nbformat_minor": 2
}
