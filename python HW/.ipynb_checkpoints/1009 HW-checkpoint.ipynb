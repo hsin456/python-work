{
 "cells": [
  {
   "cell_type": "markdown",
   "metadata": {},
   "source": [
    "### 聖誕樹"
   ]
  },
  {
   "cell_type": "code",
   "execution_count": 5,
   "metadata": {},
   "outputs": [],
   "source": [
    "%matplotlib inline\n",
    "\n",
    "import numpy as np\n",
    "import matplotlib.pyplot as plt\n",
    "import pandas as pd"
   ]
  },
  {
   "cell_type": "code",
   "execution_count": 6,
   "metadata": {},
   "outputs": [
    {
     "name": "stdout",
     "output_type": "stream",
     "text": [
      "          *          \n",
      "         ***         \n",
      "        *****        \n",
      "       *******       \n",
      "      *********      \n",
      "     ***********     \n",
      "    *************    \n",
      "   ***************   \n",
      "  *****************  \n"
     ]
    }
   ],
   "source": [
    "level=9\n",
    "for n in range(level):\n",
    "    s=\"*\"*(2*n+1)\n",
    "    print(f\"{s:^21s}\")"
   ]
  },
  {
   "cell_type": "markdown",
   "metadata": {},
   "source": [
    "### 匯率計算"
   ]
  },
  {
   "cell_type": "code",
   "execution_count": 14,
   "metadata": {},
   "outputs": [],
   "source": [
    "from ipywidgets import interact"
   ]
  },
  {
   "cell_type": "code",
   "execution_count": 15,
   "metadata": {},
   "outputs": [],
   "source": [
    "def f(國家):\n",
    "    print(國家)"
   ]
  },
  {
   "cell_type": "code",
   "execution_count": 16,
   "metadata": {},
   "outputs": [
    {
     "name": "stdout",
     "output_type": "stream",
     "text": [
      "匯率換算\n"
     ]
    },
    {
     "data": {
      "application/vnd.jupyter.widget-view+json": {
       "model_id": "826095b5fd434bcf9f099aa67e38123e",
       "version_major": 2,
       "version_minor": 0
      },
      "text/plain": [
       "interactive(children=(Dropdown(description='國家', options={'日本': '金額*0.28', '韓國': '金額*0.02', '美國': '金額*30.95', …"
      ]
     },
     "metadata": {},
     "output_type": "display_data"
    },
    {
     "data": {
      "text/plain": [
       "<function __main__.f(國家)>"
      ]
     },
     "execution_count": 16,
     "metadata": {},
     "output_type": "execute_result"
    }
   ],
   "source": [
    "print(\"匯率換算\")\n",
    "interact(f,國家=dict(日本=(\"金額*0.28\"),\n",
    "                    韓國=(\"金額*0.02\"),\n",
    "                    美國=(\"金額*30.95\"),\n",
    "                    歐元=(\"金額*33.67\")))"
   ]
  },
  {
   "cell_type": "markdown",
   "metadata": {},
   "source": [
    "### 價錢換算"
   ]
  },
  {
   "cell_type": "code",
   "execution_count": 31,
   "metadata": {},
   "outputs": [],
   "source": [
    "c=34.151677"
   ]
  },
  {
   "cell_type": "code",
   "execution_count": 32,
   "metadata": {},
   "outputs": [],
   "source": [
    "data=spam.split()"
   ]
  },
  {
   "cell_type": "code",
   "execution_count": 33,
   "metadata": {},
   "outputs": [
    {
     "name": "stdout",
     "output_type": "stream",
     "text": [
      "輸入想買東西的價格45\n",
      "價格= 1536.825465 台幣\n"
     ]
    }
   ],
   "source": [
    "p_list=[]\n",
    "spam=input(\"輸入想買東西的價格\")\n",
    "data=spam.split(',')\n",
    "\n",
    "for p in data:\n",
    "    p=float(p)\n",
    "    p_list.append(p*c)\n",
    "    print(\"價格=\",p*c,\"台幣\")"
   ]
  },
  {
   "cell_type": "markdown",
   "metadata": {},
   "source": [
    "### 成績換算"
   ]
  },
  {
   "cell_type": "code",
   "execution_count": 38,
   "metadata": {},
   "outputs": [
    {
     "name": "stdout",
     "output_type": "stream",
     "text": [
      "請輸入你的成績:100\n",
      "A\n"
     ]
    }
   ],
   "source": [
    "g=input(\"請輸入你的成績:\")\n",
    "g=float(g)\n",
    "if 80<=g<=100:\n",
    "    print(\"A\")\n",
    "elif 60<=g<80:\n",
    "    print(\"B\")\n",
    "elif g>100:\n",
    "    print(\"請勿亂輸入\")\n",
    "else:\n",
    "        print(\"C\")"
   ]
  },
  {
   "cell_type": "code",
   "execution_count": null,
   "metadata": {},
   "outputs": [],
   "source": []
  }
 ],
 "metadata": {
  "kernelspec": {
   "display_name": "Python 3",
   "language": "python",
   "name": "python3"
  },
  "language_info": {
   "codemirror_mode": {
    "name": "ipython",
    "version": 3
   },
   "file_extension": ".py",
   "mimetype": "text/x-python",
   "name": "python",
   "nbconvert_exporter": "python",
   "pygments_lexer": "ipython3",
   "version": "3.7.3"
  }
 },
 "nbformat": 4,
 "nbformat_minor": 2
}
