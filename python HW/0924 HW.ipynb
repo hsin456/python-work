{
 "cells": [
  {
   "cell_type": "code",
   "execution_count": 1,
   "metadata": {},
   "outputs": [],
   "source": [
    "%matplotlib inline\n",
    "\n",
    "import numpy as np\n",
    "import matplotlib.pyplot as plt\n",
    "import pandas as pd\n",
    "import random"
   ]
  },
  {
   "cell_type": "code",
   "execution_count": 5,
   "metadata": {},
   "outputs": [
    {
     "name": "stdout",
     "output_type": "stream",
     "text": [
      "時間分配\n",
      "微積分、英文/休閒:聽音樂\n"
     ]
    }
   ],
   "source": [
    "f=['微積分','數學導論']\n",
    "g=['英文','國文']\n",
    "h=['聽音樂','看電影']\n",
    "input('時間分配')\n",
    "print(f[np.random.randint(0,1)]+'、'+g[np.random.randint(0,1)]+'/休閒:'+h[np.random.randint(0,1)])"
   ]
  },
  {
   "cell_type": "code",
   "execution_count": 9,
   "metadata": {},
   "outputs": [],
   "source": [
    "%matplotlib inline\n",
    "\n",
    "import numpy as np\n",
    "import matplotlib.pyplot as plt\n",
    "import pandas as pd\n",
    "import webbrowser"
   ]
  },
  {
   "cell_type": "code",
   "execution_count": 10,
   "metadata": {},
   "outputs": [
    {
     "name": "stdout",
     "output_type": "stream",
     "text": [
      "想看的youtuber:邊伯賢\n"
     ]
    }
   ],
   "source": [
    "x=input(\"想看的youtuber:\")\n",
    "if\"小吳\"in x:\n",
    "    webbrowser.open_new(\"https://www.youtube.com/channel/UCAfcy122TZHqDQMMAwfbvBQ\")\n",
    "if\"艾莉莎莎\"in x:\n",
    "    webbrowser.open_new(\"https://www.youtube.com/channel/UCAKJ0tmI_RMXqTgxL_OMfIg\")\n",
    "if\"邊伯賢\"in x:\n",
    "    webbrowser.open_new(\"https://www.youtube.com/channel/UCUyr5000laFgF79tWJB3rXQ\")\n",
    "if\"CHEN\"in x:\n",
    "    webbrowser.open_new(\"https://www.youtube.com/channel/UC5vXjgHeenPq0lTSokouxdA\")"
   ]
  },
  {
   "cell_type": "code",
   "execution_count": 18,
   "metadata": {},
   "outputs": [
    {
     "name": "stdout",
     "output_type": "stream",
     "text": [
      "體重60\n",
      "身高(m)1.68\n",
      "正常\n"
     ]
    }
   ],
   "source": [
    "kg=float(input(\"體重\"))\n",
    "height=float(input(\"身高(m)\"))\n",
    "BMI=kg/height**2\n",
    "if BMI<18:\n",
    "    print(\"過瘦\")\n",
    "elif 18<=BMI<24:\n",
    "    print(\"正常\")\n",
    "elif 24<=BMI<28:\n",
    "    print(\"過胖\")\n",
    "else:\n",
    "    print(\"病態\")"
   ]
  },
  {
   "cell_type": "code",
   "execution_count": 19,
   "metadata": {},
   "outputs": [],
   "source": [
    "prices=[560,920,20000]"
   ]
  },
  {
   "cell_type": "code",
   "execution_count": 20,
   "metadata": {},
   "outputs": [],
   "source": [
    "c=0.85"
   ]
  },
  {
   "cell_type": "code",
   "execution_count": 23,
   "metadata": {},
   "outputs": [],
   "source": [
    "L=[]"
   ]
  },
  {
   "cell_type": "code",
   "execution_count": 24,
   "metadata": {},
   "outputs": [
    {
     "name": "stdout",
     "output_type": "stream",
     "text": [
      "[476.0, 782.0, 17000.0]\n"
     ]
    }
   ],
   "source": [
    "for p in prices:\n",
    "    L.append(p*c)\n",
    "print(L)"
   ]
  },
  {
   "cell_type": "code",
   "execution_count": null,
   "metadata": {},
   "outputs": [],
   "source": []
  }
 ],
 "metadata": {
  "kernelspec": {
   "display_name": "Python 3",
   "language": "python",
   "name": "python3"
  },
  "language_info": {
   "codemirror_mode": {
    "name": "ipython",
    "version": 3
   },
   "file_extension": ".py",
   "mimetype": "text/x-python",
   "name": "python",
   "nbconvert_exporter": "python",
   "pygments_lexer": "ipython3",
   "version": "3.7.3"
  }
 },
 "nbformat": 4,
 "nbformat_minor": 2
}
