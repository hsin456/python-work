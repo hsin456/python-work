{
 "cells": [
  {
   "cell_type": "code",
   "execution_count": 4,
   "metadata": {},
   "outputs": [],
   "source": [
    "%matplotlib inline\n",
    "\n",
    "import numpy as np\n",
    "import matplotlib.pyplot as plt\n",
    "import pandas as pd"
   ]
  },
  {
   "cell_type": "code",
   "execution_count": 6,
   "metadata": {},
   "outputs": [
    {
     "name": "stdout",
     "output_type": "stream",
     "text": [
      "金鐘54\n",
      "分類項目終身成就\n",
      "得獎主:張小燕\n"
     ]
    }
   ],
   "source": [
    "print(\"金鐘54\")\n",
    "msg=input(\"分類項目\") \n",
    "if (\"戲劇女主角\" in msg):\n",
    "    print (\"得獎主:賈靜雯／我們與惡的距離\")\n",
    "elif (\"戲劇男主角\" in msg):\n",
    "    print(\"得獎主:龍劭華【陳坤倉】／菜頭梗的滋味\")\n",
    "elif (\"戲劇節目\" in msg):\n",
    "    print(\"得獎主:我們與惡的距離\")\n",
    "elif (\"戲劇男配角\" in msg):\n",
    "    print(\"得獎主:溫昇豪／我們與惡的距離\")\n",
    "elif (\"戲劇女配角\" in msg):\n",
    "    print(\"得獎主:曾沛慈／我們與惡的距離\")\n",
    "elif (\"綜藝主持人\" in msg):\n",
    "    print(\"得獎主:黃子佼、卜學亮／超級同學會\")\n",
    "elif (\"綜藝節目\" in msg):\n",
    "    print(\"得獎主:聲林之王\")\n",
    "elif (\"電視電影\" in msg):\n",
    "    print(\"得獎主:你的孩子不是你的孩子 貓的孩子\")\n",
    "elif (\"迷你劇集\" in msg):\n",
    "    print(\"得獎主:奇蹟的女兒\")\n",
    "elif (\"節目創新\" in msg):\n",
    "    print(\"得獎主:台灣特有種\")\n",
    "elif (\"終身成就\" in msg):\n",
    "    print(\"得獎主:張小燕\")\n",
    "else:\n",
    "    print(\"請GOOGLE!!\")\n"
   ]
  },
  {
   "cell_type": "code",
   "execution_count": 8,
   "metadata": {},
   "outputs": [
    {
     "name": "stdout",
     "output_type": "stream",
     "text": [
      "The following commands were written to file `1002-1.py`:\n",
      "get_ipython().run_line_magic('matplotlib', 'inline')\n",
      "\n",
      "import numpy as np\n",
      "import matplotlib.pyplot as plt\n",
      "import pandas as pd\n",
      "print(\"金鐘54\")\n",
      "msg=input(\"分類項目\") \n",
      "if (\"戲劇女主角\" in msg):\n",
      "    print (\"得獎主:賈靜雯／我們與惡的距離\")\n",
      "elif (\"戲劇男主角\" in msg):\n",
      "    print(\"得獎主:龍劭華【陳坤倉】／菜頭梗的滋味\")\n",
      "elif (\"戲劇節目\" in msg):\n",
      "    print(\"得獎主:我們與惡的距離\")\n",
      "elif (\"戲劇男配角\" in msg):\n",
      "    print(\"得獎主:溫昇豪／我們與惡的距離\")\n",
      "elif (\"戲劇女配角\" in msg):\n",
      "    print(\"得獎主:曾沛慈／我們與惡的距離\")\n",
      "elif (\"綜藝主持人\" in msg):\n",
      "    print(\"得獎主:黃子佼、卜學亮／超級同學會\")\n",
      "elif (\"綜藝節目\" in msg):\n",
      "    print(\"得獎主:聲林之王\")\n",
      "elif (\"電視電影\" in msg):\n",
      "    print(\"得獎主:你的孩子不是你的孩子 貓的孩子\")\n",
      "elif (\"迷你劇集\" in msg):\n",
      "    print(\"得獎主:奇蹟的女兒\")\n",
      "elif (\"節目創新\" in msg):\n",
      "    print(\"得獎主:台灣特有種\")\n",
      "elif (\"終身成就\" in msg):\n",
      "    print(\"得獎主:張小燕\")\n",
      "else:\n",
      "    print(\"請GOOGLE!!\")\n"
     ]
    }
   ],
   "source": [
    "%save \"1002-1.py\" 4 6"
   ]
  },
  {
   "cell_type": "code",
   "execution_count": null,
   "metadata": {},
   "outputs": [],
   "source": []
  }
 ],
 "metadata": {
  "kernelspec": {
   "display_name": "Python 3",
   "language": "python",
   "name": "python3"
  },
  "language_info": {
   "codemirror_mode": {
    "name": "ipython",
    "version": 3
   },
   "file_extension": ".py",
   "mimetype": "text/x-python",
   "name": "python",
   "nbconvert_exporter": "python",
   "pygments_lexer": "ipython3",
   "version": "3.7.3"
  }
 },
 "nbformat": 4,
 "nbformat_minor": 2
}
