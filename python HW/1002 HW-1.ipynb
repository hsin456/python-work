{
 "cells": [
  {
   "cell_type": "markdown",
   "metadata": {},
   "source": [
    "## 金鐘54"
   ]
  },
  {
   "cell_type": "code",
   "execution_count": 1,
   "metadata": {},
   "outputs": [],
   "source": [
    "%matplotlib inline\n",
    "\n",
    "import numpy as np\n",
    "import matplotlib.pyplot as plt\n",
    "import pandas as pd"
   ]
  },
  {
   "cell_type": "code",
   "execution_count": 2,
   "metadata": {},
   "outputs": [
    {
     "name": "stdout",
     "output_type": "stream",
     "text": [
      "金鐘54\n",
      "分類項目終身成就\n",
      "得獎主:張小燕\n"
     ]
    }
   ],
   "source": [
    "print(\"金鐘54\")\n",
    "msg=input(\"分類項目\") \n",
    "if (\"戲劇女主角\" in msg):\n",
    "    print (\"得獎主:賈靜雯／我們與惡的距離\")\n",
    "elif (\"戲劇男主角\" in msg):\n",
    "    print(\"得獎主:龍劭華【陳坤倉】／菜頭梗的滋味\")\n",
    "elif (\"戲劇節目\" in msg):\n",
    "    print(\"得獎主:我們與惡的距離\")\n",
    "elif (\"戲劇男配角\" in msg):\n",
    "    print(\"得獎主:溫昇豪／我們與惡的距離\")\n",
    "elif (\"戲劇女配角\" in msg):\n",
    "    print(\"得獎主:曾沛慈／我們與惡的距離\")\n",
    "elif (\"綜藝主持人\" in msg):\n",
    "    print(\"得獎主:黃子佼、卜學亮／超級同學會\")\n",
    "elif (\"綜藝節目\" in msg):\n",
    "    print(\"得獎主:聲林之王\")\n",
    "elif (\"電視電影\" in msg):\n",
    "    print(\"得獎主:你的孩子不是你的孩子 貓的孩子\")\n",
    "elif (\"迷你劇集\" in msg):\n",
    "    print(\"得獎主:奇蹟的女兒\")\n",
    "elif (\"節目創新\" in msg):\n",
    "    print(\"得獎主:台灣特有種\")\n",
    "elif (\"終身成就\" in msg):\n",
    "    print(\"得獎主:張小燕\")\n",
    "else:\n",
    "    print(\"請GOOGLE!!\")\n"
   ]
  },
  {
   "cell_type": "code",
   "execution_count": 3,
   "metadata": {},
   "outputs": [
    {
     "name": "stdout",
     "output_type": "stream",
     "text": [
      "The following commands were written to file `1002-1.py`:\n",
      "get_ipython().run_line_magic('matplotlib', 'inline')\n",
      "\n",
      "import numpy as np\n",
      "import matplotlib.pyplot as plt\n",
      "import pandas as pd\n",
      "print(\"金鐘54\")\n",
      "msg=input(\"分類項目\") \n",
      "if (\"戲劇女主角\" in msg):\n",
      "    print (\"得獎主:賈靜雯／我們與惡的距離\")\n",
      "elif (\"戲劇男主角\" in msg):\n",
      "    print(\"得獎主:龍劭華【陳坤倉】／菜頭梗的滋味\")\n",
      "elif (\"戲劇節目\" in msg):\n",
      "    print(\"得獎主:我們與惡的距離\")\n",
      "elif (\"戲劇男配角\" in msg):\n",
      "    print(\"得獎主:溫昇豪／我們與惡的距離\")\n",
      "elif (\"戲劇女配角\" in msg):\n",
      "    print(\"得獎主:曾沛慈／我們與惡的距離\")\n",
      "elif (\"綜藝主持人\" in msg):\n",
      "    print(\"得獎主:黃子佼、卜學亮／超級同學會\")\n",
      "elif (\"綜藝節目\" in msg):\n",
      "    print(\"得獎主:聲林之王\")\n",
      "elif (\"電視電影\" in msg):\n",
      "    print(\"得獎主:你的孩子不是你的孩子 貓的孩子\")\n",
      "elif (\"迷你劇集\" in msg):\n",
      "    print(\"得獎主:奇蹟的女兒\")\n",
      "elif (\"節目創新\" in msg):\n",
      "    print(\"得獎主:台灣特有種\")\n",
      "elif (\"終身成就\" in msg):\n",
      "    print(\"得獎主:張小燕\")\n",
      "else:\n",
      "    print(\"請GOOGLE!!\")\n"
     ]
    }
   ],
   "source": [
    "%save \"1002-1.py\" 1 2"
   ]
  },
  {
   "cell_type": "markdown",
   "metadata": {},
   "source": [
    "## 文青機器人"
   ]
  },
  {
   "cell_type": "code",
   "execution_count": 26,
   "metadata": {},
   "outputs": [],
   "source": [
    "from numpy.random import randint"
   ]
  },
  {
   "cell_type": "code",
   "execution_count": 27,
   "metadata": {},
   "outputs": [],
   "source": [
    "words='''\n",
    "我\n",
    "我的\n",
    "你\n",
    "你的\n",
    "心\n",
    "溫柔\n",
    "日子\n",
    "雨\n",
    "天空\n",
    "等待\n",
    "哭泣\n",
    "忘記\n",
    "分離\n",
    "戀愛\n",
    "思念\n",
    "吹過\n",
    "心醉'''"
   ]
  },
  {
   "cell_type": "code",
   "execution_count": 28,
   "metadata": {},
   "outputs": [],
   "source": [
    "phrase=words.split('\\n')"
   ]
  },
  {
   "cell_type": "code",
   "execution_count": 29,
   "metadata": {},
   "outputs": [],
   "source": [
    "from numpy.random import choice"
   ]
  },
  {
   "cell_type": "code",
   "execution_count": 30,
   "metadata": {},
   "outputs": [
    {
     "data": {
      "text/plain": [
       "array(['吹過', '心醉', '思念', '', '雨'], dtype='<U2')"
      ]
     },
     "execution_count": 30,
     "metadata": {},
     "output_type": "execute_result"
    }
   ],
   "source": [
    "choice(phrase,5)"
   ]
  },
  {
   "cell_type": "code",
   "execution_count": 31,
   "metadata": {},
   "outputs": [],
   "source": [
    "ll=randint(5,8)\n",
    "\n",
    "egg=choice(phrase,ll)"
   ]
  },
  {
   "cell_type": "code",
   "execution_count": 32,
   "metadata": {},
   "outputs": [
    {
     "name": "stdout",
     "output_type": "stream",
     "text": [
      "你心醉我忘記\n",
      "心思念天空戀愛分離分離哭泣\n",
      "雨你的心醉心哭泣等待\n"
     ]
    }
   ],
   "source": [
    "n=randint(3,6)\n",
    "\n",
    "for i in range(n):\n",
    "    k=randint(5,8)\n",
    "    egg=choice(phrase,k)\n",
    "    ham=''.join(egg)\n",
    "    print(ham)"
   ]
  },
  {
   "cell_type": "code",
   "execution_count": 33,
   "metadata": {},
   "outputs": [
    {
     "name": "stdout",
     "output_type": "stream",
     "text": [
      "The following commands were written to file `1002-2.py`:\n",
      "from numpy.random import randint\n",
      "words='''\n",
      "我\n",
      "我的\n",
      "你\n",
      "你的\n",
      "心\n",
      "溫柔\n",
      "日子\n",
      "雨\n",
      "天空\n",
      "等待\n",
      "哭泣\n",
      "忘記\n",
      "分離\n",
      "戀愛\n",
      "思念\n",
      "吹過\n",
      "心醉'''\n",
      "n=randint(3,6)\n",
      "\n",
      "for i in range(n):\n",
      "    k=randint(5,8)\n",
      "    egg=choice(phrase,k)\n",
      "    ham=''.join(egg)\n",
      "    print(ham)\n"
     ]
    }
   ],
   "source": [
    "%save \"1002-2.py\" 26 27 32"
   ]
  },
  {
   "cell_type": "code",
   "execution_count": null,
   "metadata": {},
   "outputs": [],
   "source": []
  }
 ],
 "metadata": {
  "kernelspec": {
   "display_name": "Python 3",
   "language": "python",
   "name": "python3"
  },
  "language_info": {
   "codemirror_mode": {
    "name": "ipython",
    "version": 3
   },
   "file_extension": ".py",
   "mimetype": "text/x-python",
   "name": "python",
   "nbconvert_exporter": "python",
   "pygments_lexer": "ipython3",
   "version": "3.7.3"
  }
 },
 "nbformat": 4,
 "nbformat_minor": 2
}
