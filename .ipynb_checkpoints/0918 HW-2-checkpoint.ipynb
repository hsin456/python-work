{
 "cells": [
  {
   "cell_type": "code",
   "execution_count": 1,
   "metadata": {},
   "outputs": [],
   "source": [
    "%matplotlib inline\n",
    "\n",
    "import numpy as np\n",
    "import matplotlib.pyplot as plt\n",
    "import pandas as pd"
   ]
  },
  {
   "cell_type": "code",
   "execution_count": null,
   "metadata": {},
   "outputs": [
    {
     "name": "stdout",
     "output_type": "stream",
     "text": [
      "我的課表\n",
      ">>星期一\n",
      "國文課\n",
      ">>星期二\n",
      "一堆數學課\n",
      ">>星期三\n",
      "python+英文課\n",
      ">>星期四\n",
      "一堆數學課\n",
      ">>星期五\n",
      "物聯網\n",
      ">>星期六\n",
      "拍拍\n"
     ]
    }
   ],
   "source": [
    "msg=\"\"\n",
    "print(\"我的課表\")\n",
    "while(msg!=\"bye\"):  \n",
    "    msg=input(\">>\") \n",
    "    if (\"一\" in msg):\n",
    "        print (\"國文課\")\n",
    "    elif (\"二\" in msg):\n",
    "        print(\"一堆數學課\")\n",
    "    elif (\"三\" in msg):\n",
    "        print(\"python+英文課\")\n",
    "    elif (\"四\" in msg):\n",
    "        print(\"一堆數學課\")\n",
    "    elif (\"五\" in msg):\n",
    "        print(\"物聯網\")\n",
    "    else:\n",
    "        print(\"拍拍\")\n"
   ]
  },
  {
   "cell_type": "code",
   "execution_count": null,
   "metadata": {},
   "outputs": [],
   "source": []
  },
  {
   "cell_type": "code",
   "execution_count": null,
   "metadata": {},
   "outputs": [],
   "source": []
  },
  {
   "cell_type": "code",
   "execution_count": null,
   "metadata": {},
   "outputs": [],
   "source": []
  },
  {
   "cell_type": "code",
   "execution_count": null,
   "metadata": {},
   "outputs": [],
   "source": []
  }
 ],
 "metadata": {
  "kernelspec": {
   "display_name": "Python 3",
   "language": "python",
   "name": "python3"
  },
  "language_info": {
   "codemirror_mode": {
    "name": "ipython",
    "version": 3
   },
   "file_extension": ".py",
   "mimetype": "text/x-python",
   "name": "python",
   "nbconvert_exporter": "python",
   "pygments_lexer": "ipython3",
   "version": "3.7.3"
  }
 },
 "nbformat": 4,
 "nbformat_minor": 2
}
